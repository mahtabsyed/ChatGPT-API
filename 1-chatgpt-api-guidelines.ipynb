{
 "cells": [
  {
   "attachments": {},
   "cell_type": "markdown",
   "metadata": {},
   "source": [
    "# Guidelines for Prompting\n",
    "In this lesson, you'll practice two prompting principles and their related tactics in order to write effective prompts for large language models.\n",
    "\n",
    "## Setup\n",
    "#### Load the API key and relevant Python libaries."
   ]
  },
  {
   "cell_type": "code",
   "execution_count": 1,
   "metadata": {},
   "outputs": [],
   "source": [
    "import openai\n",
    "import os\n",
    "\n",
    "from dotenv import load_dotenv, find_dotenv\n",
    "_ = load_dotenv(find_dotenv())\n",
    "\n",
    "openai.api_key  = os.getenv('OPENAI_API_KEY')\n",
    "# print(openai.api_key )"
   ]
  },
  {
   "attachments": {},
   "cell_type": "markdown",
   "metadata": {},
   "source": [
    "#### helper function\n",
    "Throughout this course, we will use OpenAI's `gpt-3.5-turbo` model and the [chat completions endpoint](https://platform.openai.com/docs/guides/chat). \n",
    "\n",
    "This helper function will make it easier to use prompts and look at the generated outputs:"
   ]
  },
  {
   "cell_type": "code",
   "execution_count": 2,
   "metadata": {},
   "outputs": [],
   "source": [
    "# If using OpenAI latest  library version > 1.0.0, here is the code\n",
    "client = openai.OpenAI()\n",
    "\n",
    "# model=\"gpt-4o-mini\"\n",
    "\n",
    "def get_completion(prompt, model=\"gpt-4o-mini\"):\n",
    "    messages = [{\"role\": \"user\", \"content\": prompt}]\n",
    "    response = client.chat.completions.create(\n",
    "        model=model,\n",
    "        messages=messages,\n",
    "        temperature=0\n",
    "    )\n",
    "    return response.choices[0].message.content"
   ]
  },
  {
   "attachments": {},
   "cell_type": "markdown",
   "metadata": {},
   "source": [
    "## Prompting Principles\n",
    "- **Principle 1: Write clear and specific instructions**\n",
    "- **Principle 2: Give the model time to “think”**\n",
    "\n",
    "### Tactics\n",
    "\n",
    "#### Tactic 1: Use delimiters to clearly indicate distinct parts of the input\n",
    "- Delimiters can be anything like: ```, \"\"\", < >, `<tag> </tag>`, `:`"
   ]
  },
  {
   "cell_type": "code",
   "execution_count": 3,
   "metadata": {},
   "outputs": [
    {
     "name": "stdout",
     "output_type": "stream",
     "text": [
      "Clear and specific instructions improve model responses, often requiring longer prompts for better clarity and context.\n"
     ]
    }
   ],
   "source": [
    "text = f\"\"\"\n",
    "You should express what you want a model to do by \n",
    "providing instructions that are as clear and \n",
    "specific as you can possibly make them. \n",
    "This will guide the model towards the desired output, \n",
    "and reduce the chances of receiving irrelevant \n",
    "or incorrect responses. Don't confuse writing a \n",
    "clear prompt with writing a short prompt. \n",
    "In many cases, longer prompts provide more clarity \n",
    "and context for the model, which can lead to \n",
    "more detailed and relevant outputs.\n",
    "\"\"\"\n",
    "prompt = f\"\"\"\n",
    "Summarize the text delimited by triple backticks \n",
    "into a single sentence of less than 20 words.\n",
    "```{text}```\n",
    "\"\"\"\n",
    "response = get_completion(prompt)\n",
    "print(response)"
   ]
  },
  {
   "attachments": {},
   "cell_type": "markdown",
   "metadata": {},
   "source": [
    "#### Tactic 2: Ask for a structured output\n",
    "- JSON, HTML"
   ]
  },
  {
   "cell_type": "code",
   "execution_count": 4,
   "metadata": {},
   "outputs": [
    {
     "name": "stdout",
     "output_type": "stream",
     "text": [
      "```json\n",
      "[\n",
      "    {\n",
      "        \"book_id\": 1,\n",
      "        \"title\": \"Whispers of the Forgotten Forest\",\n",
      "        \"author\": \"Elena Moonshadow\",\n",
      "        \"genre\": \"Fantasy\"\n",
      "    },\n",
      "    {\n",
      "        \"book_id\": 2,\n",
      "        \"title\": \"The Clockmaker's Secret\",\n",
      "        \"author\": \"Jasper Thorne\",\n",
      "        \"genre\": \"Mystery\"\n",
      "    },\n",
      "    {\n",
      "        \"book_id\": 3,\n",
      "        \"title\": \"Echoes of Tomorrow\",\n",
      "        \"author\": \"Sophie Lark\",\n",
      "        \"genre\": \"Science Fiction\"\n",
      "    }\n",
      "]\n",
      "```\n"
     ]
    }
   ],
   "source": [
    "prompt = f\"\"\"\n",
    "Generate a list of three made-up book titles along\n",
    "with their authors and genres. \n",
    "Provide them in JSON format with the following keys: \n",
    "book_id, title, author, genre.\n",
    "\"\"\"\n",
    "response = get_completion(prompt)\n",
    "print(response)"
   ]
  },
  {
   "attachments": {},
   "cell_type": "markdown",
   "metadata": {},
   "source": [
    "#### Tactic 3: Ask the model to check whether conditions are satisfied"
   ]
  },
  {
   "cell_type": "code",
   "execution_count": 5,
   "metadata": {},
   "outputs": [
    {
     "name": "stdout",
     "output_type": "stream",
     "text": [
      "Completion for Text 1:\n",
      "Step 1 - Get some water boiling.  \n",
      "Step 2 - Grab a cup and put a tea bag in it.  \n",
      "Step 3 - Once the water is hot enough, pour it over the tea bag.  \n",
      "Step 4 - Let it sit for a bit so the tea can steep.  \n",
      "Step 5 - After a few minutes, take out the tea bag.  \n",
      "Step 6 - Add sugar or milk to taste, if desired.  \n",
      "Step 7 - Enjoy your delicious cup of tea!\n"
     ]
    }
   ],
   "source": [
    "text_1 = f\"\"\"\n",
    "Making a cup of tea is easy! First, you need to get some \n",
    "water boiling. While that's happening,\n",
    "grab a cup and put a tea bag in it. Once the water is\n",
    "hot enough, just pour it over the tea bag.\n",
    "Let it sit for a bit so the tea can steep. After a\n",
    "few minutes, take out the tea bag. If you\n",
    "like, you can add some sugar or milk to taste.\n",
    "And that's it! You've got yourself a delicious\n",
    "cup of tea to enjoy.\n",
    "\"\"\"\n",
    "prompt = f\"\"\"\n",
    "You will be provided with text delimited by triple quotes. \n",
    "If it contains a sequence of instructions,\n",
    "re-write those instructions in the following format:\n",
    "\n",
    "Step 1 - ...\n",
    "Step 2 - …\n",
    "…\n",
    "Step N - …\n",
    "\n",
    "If the text does not contain a sequence of instructions, \n",
    "then simply write \"No steps provided.\"\n",
    "\n",
    "\\\"\\\"\\\"{text_1}\\\"\\\"\\\"\n",
    "\"\"\"\n",
    "response = get_completion(prompt)\n",
    "print(\"Completion for Text 1:\")\n",
    "print(response)"
   ]
  },
  {
   "cell_type": "code",
   "execution_count": 6,
   "metadata": {},
   "outputs": [
    {
     "name": "stdout",
     "output_type": "stream",
     "text": [
      "Completion for Text 2:\n",
      "No steps provided.\n"
     ]
    }
   ],
   "source": [
    "text_2 = f\"\"\"\n",
    "The sun is shining brightly today, and the birds are \n",
    "singing. It's a beautiful day to go for a \n",
    "walk in the park. The flowers are blooming, and the \n",
    "trees are swaying gently in the breeze. People \n",
    "are out and about, enjoying the lovely weather. \n",
    "Some are having picnics, while others are playing \n",
    "games or simply relaxing on the grass. It's a \n",
    "perfect day to spend time outdoors and appreciate the \n",
    "beauty of nature.\n",
    "\"\"\"\n",
    "prompt = f\"\"\"\n",
    "You will be provided with text delimited by triple quotes. \n",
    "If it contains a sequence of instructions, \n",
    "re-write those instructions in the following format:\n",
    "\n",
    "Step 1 - ...\n",
    "Step 2 - …\n",
    "…\n",
    "Step N - …\n",
    "\n",
    "If the text does not contain a sequence of instructions, \n",
    "then simply write \"No steps provided.\"\n",
    "\n",
    "\\\"\\\"\\\"{text_2}\\\"\\\"\\\"\n",
    "\"\"\"\n",
    "response = get_completion(prompt)\n",
    "print(\"Completion for Text 2:\")\n",
    "print(response)"
   ]
  },
  {
   "attachments": {},
   "cell_type": "markdown",
   "metadata": {},
   "source": [
    "#### Tactic 4: \"Few-shot\" prompting"
   ]
  },
  {
   "cell_type": "code",
   "execution_count": 7,
   "metadata": {},
   "outputs": [
    {
     "name": "stdout",
     "output_type": "stream",
     "text": [
      "<grandparent>: The oak tree that withstands the fiercest storms grows from a humble acorn; the strongest warrior is forged in the heat of battle; the most beautiful diamond is shaped through relentless pressure.\n"
     ]
    }
   ],
   "source": [
    "prompt = f\"\"\"\n",
    "Your task is to answer in a consistent style.\n",
    "\n",
    "<child>: Teach me about patience.\n",
    "\n",
    "<grandparent>: The river that carves the deepest \n",
    "valley flows from a modest spring; the \n",
    "grandest symphony originates from a single note; \n",
    "the most intricate tapestry begins with a solitary thread.\n",
    "\n",
    "<child>: Teach me about grit.\n",
    "\"\"\"\n",
    "response = get_completion(prompt)\n",
    "print(response)"
   ]
  },
  {
   "attachments": {},
   "cell_type": "markdown",
   "metadata": {},
   "source": [
    "### Principle 2: Give the model time to “think” \n",
    "\n",
    "#### Tactic 1: Specify the steps required to complete a task"
   ]
  },
  {
   "cell_type": "code",
   "execution_count": 8,
   "metadata": {},
   "outputs": [
    {
     "name": "stdout",
     "output_type": "stream",
     "text": [
      "Completion for prompt 1:\n",
      "Jack and Jill, siblings from a charming village, embarked on a quest for water but faced misfortune when Jack fell down a hill, yet they returned home undeterred and continued their adventures. \n",
      "\n",
      "Jack et Jill, des frères et sœurs d'un charmant village, se sont lancés dans une quête d'eau mais ont rencontré un malheur lorsque Jack est tombé d'une colline, mais ils sont rentrés chez eux sans se décourager et ont continué leurs aventures.\n",
      "\n",
      "Jack, Jill\n",
      "\n",
      "{\n",
      "  \"french_summary\": \"Jack et Jill, des frères et sœurs d'un charmant village, se sont lancés dans une quête d'eau mais ont rencontré un malheur lorsque Jack est tombé d'une colline, mais ils sont rentrés chez eux sans se décourager et ont continué leurs aventures.\",\n",
      "  \"num_names\": 2\n",
      "}\n"
     ]
    }
   ],
   "source": [
    "text = f\"\"\"\n",
    "In a charming village, siblings Jack and Jill set out on \n",
    "a quest to fetch water from a hilltop \n",
    "well. As they climbed, singing joyfully, misfortune \n",
    "struck—Jack tripped on a stone and tumbled \n",
    "down the hill, with Jill following suit. \n",
    "Though slightly battered, the pair returned home to \n",
    "comforting embraces. Despite the mishap, \n",
    "their adventurous spirits remained undimmed, and they \n",
    "continued exploring with delight.\n",
    "\"\"\"\n",
    "# example 1\n",
    "prompt_1 = f\"\"\"\n",
    "Perform the following actions: \n",
    "1 - Summarize the following text delimited by triple \n",
    "backticks with 1 sentence.\n",
    "2 - Translate the summary into French.\n",
    "3 - List each name in the French summary.\n",
    "4 - Output a json object that contains the following \n",
    "keys: french_summary, num_names.\n",
    "\n",
    "Separate your answers with line breaks.\n",
    "\n",
    "Text:\n",
    "```{text}```\n",
    "\"\"\"\n",
    "response = get_completion(prompt_1)\n",
    "print(\"Completion for prompt 1:\")\n",
    "print(response)"
   ]
  },
  {
   "cell_type": "code",
   "execution_count": 9,
   "metadata": {},
   "outputs": [
    {
     "name": "stdout",
     "output_type": "stream",
     "text": [
      "\n",
      "Completion for prompt 2:\n",
      "Summary: Siblings Jack and Jill embark on a joyful quest to fetch water but face misfortune when Jack falls down the hill, yet they return home undeterred and continue their adventures.  \n",
      "Translation: Les frères et sœurs Jack et Jill se lancent dans une quête joyeuse pour chercher de l'eau, mais rencontrent un malheur lorsque Jack tombe de la colline, pourtant ils rentrent chez eux sans se laisser décourager et continuent leurs aventures.  \n",
      "Names: Jack, Jill  \n",
      "Output JSON: {\"french_summary\":\"Les frères et sœurs Jack et Jill se lancent dans une quête joyeuse pour chercher de l'eau, mais rencontrent un malheur lorsque Jack tombe de la colline, pourtant ils rentrent chez eux sans se laisser décourager et continuent leurs aventures.\",\"num_names\":2}\n"
     ]
    }
   ],
   "source": [
    "prompt_2 = f\"\"\"\n",
    "Your task is to perform the following actions: \n",
    "1 - Summarize the following text delimited by \n",
    "  <> with 1 sentence.\n",
    "2 - Translate the summary into French.\n",
    "3 - List each name in the French summary.\n",
    "4 - Output a json object that contains the \n",
    "  following keys: french_summary, num_names.\n",
    "\n",
    "Use the following format:\n",
    "Text: <text to summarize>\n",
    "Summary: <summary>\n",
    "Translation: <summary translation>\n",
    "Names: <list of names in French summary>\n",
    "Output JSON: <json with summary and num_names>\n",
    "\n",
    "Text: <{text}>\n",
    "\"\"\"\n",
    "response = get_completion(prompt_2)\n",
    "print(\"\\nCompletion for prompt 2:\")\n",
    "print(response)"
   ]
  },
  {
   "attachments": {},
   "cell_type": "markdown",
   "metadata": {},
   "source": [
    "#### Tactic 2: Instruct the model to work out its own solution before rushing to a conclusion"
   ]
  },
  {
   "cell_type": "code",
   "execution_count": 10,
   "metadata": {},
   "outputs": [
    {
     "name": "stdout",
     "output_type": "stream",
     "text": [
      "The student's solution is mostly correct, but there is a small error in the maintenance cost calculation. Let's break it down step by step.\n",
      "\n",
      "1. **Land cost**: The cost of land is $100 per square foot, so for \\( x \\) square feet, the cost is:\n",
      "   \\[\n",
      "   100x\n",
      "   \\]\n",
      "\n",
      "2. **Solar panel cost**: The cost of solar panels is $250 per square foot, so for \\( x \\) square feet, the cost is:\n",
      "   \\[\n",
      "   250x\n",
      "   \\]\n",
      "\n",
      "3. **Maintenance cost**: The maintenance cost consists of a flat fee of $100,000 plus an additional $10 per square foot. Therefore, for \\( x \\) square feet, the maintenance cost is:\n",
      "   \\[\n",
      "   100,000 + 10x\n",
      "   \\]\n",
      "\n",
      "Now, let's combine all these costs to find the total cost for the first year of operations:\n",
      "\n",
      "\\[\n",
      "\\text{Total cost} = \\text{Land cost} + \\text{Solar panel cost} + \\text{Maintenance cost}\n",
      "\\]\n",
      "\\[\n",
      "\\text{Total cost} = 100x + 250x + (100,000 + 10x)\n",
      "\\]\n",
      "\\[\n",
      "\\text{Total cost} = 100x + 250x + 100,000 + 10x\n",
      "\\]\n",
      "\\[\n",
      "\\text{Total cost} = (100x + 250x + 10x) + 100,000\n",
      "\\]\n",
      "\\[\n",
      "\\text{Total cost} = 360x + 100,000\n",
      "\\]\n",
      "\n",
      "The student's final expression was \\( 450x + 100,000 \\), which is incorrect. The correct total cost for the first year of operations as a function of the number of square feet \\( x \\) is:\n",
      "\n",
      "\\[\n",
      "\\text{Total cost} = 360x + 100,000\n",
      "\\]\n",
      "\n",
      "So, the student's solution is incorrect.\n"
     ]
    }
   ],
   "source": [
    "prompt = f\"\"\"\n",
    "Determine if the student's solution is correct or not.\n",
    "\n",
    "Question:\n",
    "I'm building a solar power installation and I need \n",
    " help working out the financials. \n",
    "- Land costs $100 / square foot\n",
    "- I can buy solar panels for $250 / square foot\n",
    "- I negotiated a contract for maintenance that will cost \n",
    "me a flat $100k per year, and an additional $10 / square \n",
    "foot\n",
    "What is the total cost for the first year of operations \n",
    "as a function of the number of square feet.\n",
    "\n",
    "Student's Solution:\n",
    "Let x be the size of the installation in square feet.\n",
    "Costs:\n",
    "1. Land cost: 100x\n",
    "2. Solar panel cost: 250x\n",
    "3. Maintenance cost: 100,000 + 100x\n",
    "Total cost: 100x + 250x + 100,000 + 100x = 450x + 100,000\n",
    "\"\"\"\n",
    "response = get_completion(prompt)\n",
    "print(response)"
   ]
  },
  {
   "attachments": {},
   "cell_type": "markdown",
   "metadata": {},
   "source": [
    "#### Note that the student's solution is actually not correct.\n",
    "#### We can fix this by instructing the model to work out its own solution first."
   ]
  },
  {
   "cell_type": "code",
   "execution_count": 11,
   "metadata": {},
   "outputs": [
    {
     "name": "stdout",
     "output_type": "stream",
     "text": [
      "```\n",
      "Let x be the size of the installation in square feet.\n",
      "\n",
      "1. Land cost: The cost of land is $100 per square foot, so for x square feet, the cost is:\n",
      "   Land cost = 100 * x = 100x\n",
      "\n",
      "2. Solar panel cost: The cost of solar panels is $250 per square foot, so for x square feet, the cost is:\n",
      "   Solar panel cost = 250 * x = 250x\n",
      "\n",
      "3. Maintenance cost: The maintenance cost consists of a flat fee of $100,000 plus an additional $10 per square foot. Therefore, for x square feet, the maintenance cost is:\n",
      "   Maintenance cost = 100,000 + 10 * x = 100,000 + 10x\n",
      "\n",
      "Now, we can sum all these costs to find the total cost for the first year of operations:\n",
      "Total cost = Land cost + Solar panel cost + Maintenance cost\n",
      "Total cost = 100x + 250x + (100,000 + 10x)\n",
      "Total cost = 100x + 250x + 100,000 + 10x\n",
      "Total cost = (100x + 250x + 10x) + 100,000\n",
      "Total cost = 360x + 100,000\n",
      "\n",
      "Thus, the total cost for the first year of operations as a function of the number of square feet is:\n",
      "Total cost = 360x + 100,000\n",
      "```\n",
      "Is the student's solution the same as actual solution just calculated:\n",
      "```\n",
      "no\n",
      "```\n",
      "Student grade:\n",
      "```\n",
      "incorrect\n",
      "```\n"
     ]
    }
   ],
   "source": [
    "prompt = f\"\"\"\n",
    "Your task is to determine if the student's solution \n",
    "is correct or not.\n",
    "To solve the problem do the following:\n",
    "- First, work out your own solution to the problem. \n",
    "- Then compare your solution to the student's solution \n",
    "and evaluate if the student's solution is correct or not. \n",
    "Don't decide if the student's solution is correct until \n",
    "you have done the problem yourself.\n",
    "\n",
    "Use the following format:\n",
    "Question:\n",
    "```\n",
    "question here\n",
    "```\n",
    "Student's solution:\n",
    "```\n",
    "student's solution here\n",
    "```\n",
    "Actual solution:\n",
    "```\n",
    "steps to work out the solution and your solution here\n",
    "```\n",
    "Is the student's solution the same as actual solution \n",
    "just calculated:\n",
    "```\n",
    "yes or no\n",
    "```\n",
    "Student grade:\n",
    "```\n",
    "correct or incorrect\n",
    "```\n",
    "\n",
    "Question:\n",
    "```\n",
    "I'm building a solar power installation and I need help \n",
    "working out the financials. \n",
    "- Land costs $100 / square foot\n",
    "- I can buy solar panels for $250 / square foot\n",
    "- I negotiated a contract for maintenance that will cost \n",
    "me a flat $100k per year, and an additional $10 / square \n",
    "foot\n",
    "What is the total cost for the first year of operations \n",
    "as a function of the number of square feet.\n",
    "``` \n",
    "Student's solution:\n",
    "```\n",
    "Let x be the size of the installation in square feet.\n",
    "Costs:\n",
    "1. Land cost: 100x\n",
    "2. Solar panel cost: 250x\n",
    "3. Maintenance cost: 100,000 + 100x\n",
    "Total cost: 100x + 250x + 100,000 + 100x = 450x + 100,000\n",
    "```\n",
    "Actual solution:\n",
    "\"\"\"\n",
    "response = get_completion(prompt)\n",
    "print(response)"
   ]
  },
  {
   "attachments": {},
   "cell_type": "markdown",
   "metadata": {},
   "source": [
    "## Model Limitations: Hallucinations\n",
    "- Boie is a real company, the product name is not real."
   ]
  },
  {
   "cell_type": "code",
   "execution_count": 12,
   "metadata": {},
   "outputs": [
    {
     "name": "stdout",
     "output_type": "stream",
     "text": [
      "The AeroGlide UltraSlim Smart Toothbrush by Boie is designed to enhance the oral hygiene experience through advanced technology and a sleek design. Here are some key features and aspects of the toothbrush:\n",
      "\n",
      "1. **Slim Design**: The UltraSlim design makes it easy to handle and maneuver, allowing users to reach all areas of the mouth comfortably.\n",
      "\n",
      "2. **Smart Technology**: The toothbrush often includes smart features such as Bluetooth connectivity, which can sync with a mobile app to track brushing habits, provide feedback, and offer personalized recommendations for improving oral care.\n",
      "\n",
      "3. **Sonic Cleaning Action**: Many smart toothbrushes, including those from Boie, utilize sonic technology to provide effective cleaning. This means the brush head vibrates at high frequencies to help remove plaque and debris more efficiently than manual brushing.\n",
      "\n",
      "4. **Replaceable Brush Heads**: The AeroGlide typically features replaceable brush heads, which can be more sustainable than disposable toothbrushes. This allows users to maintain hygiene while reducing waste.\n",
      "\n",
      "5. **Battery Life**: The toothbrush is usually equipped with a long-lasting battery, ensuring that it can be used for an extended period before needing a recharge.\n",
      "\n",
      "6. **User-Friendly Features**: It may include features like a timer to ensure users brush for the recommended two minutes, pressure sensors to prevent excessive force while brushing, and different cleaning modes for various needs (e.g., sensitive teeth, gum care).\n",
      "\n",
      "7. **Design and Aesthetics**: Boie products are often noted for their modern and minimalist design, making them visually appealing and suitable for various bathroom aesthetics.\n",
      "\n",
      "For the most accurate and detailed information, including specifications and user reviews, it's best to check the official Boie website or trusted retailers.\n"
     ]
    }
   ],
   "source": [
    "prompt = f\"\"\"\n",
    "Tell me about AeroGlide UltraSlim Smart Toothbrush by Boie\n",
    "\"\"\"\n",
    "response = get_completion(prompt)\n",
    "print(response)"
   ]
  },
  {
   "cell_type": "code",
   "execution_count": 13,
   "metadata": {},
   "outputs": [
    {
     "name": "stdout",
     "output_type": "stream",
     "text": [
      "Sorry, I could not get this info.\n"
     ]
    }
   ],
   "source": [
    "prompt = f\"\"\"\n",
    "Tell me about AeroGlide UltraSlim Smart Toothbrush by Boie\n",
    "First find relevant information on this product by Boie\n",
    "If you dont find any info say that \"Sorry I could not get this info\"\n",
    "\"\"\"\n",
    "response = get_completion(prompt)\n",
    "print(response)"
   ]
  },
  {
   "cell_type": "code",
   "execution_count": null,
   "metadata": {},
   "outputs": [],
   "source": []
  }
 ],
 "metadata": {
  "kernelspec": {
   "display_name": ".venv (3.13.5)",
   "language": "python",
   "name": "python3"
  },
  "language_info": {
   "codemirror_mode": {
    "name": "ipython",
    "version": 3
   },
   "file_extension": ".py",
   "mimetype": "text/x-python",
   "name": "python",
   "nbconvert_exporter": "python",
   "pygments_lexer": "ipython3",
   "version": "3.13.5"
  },
  "orig_nbformat": 4
 },
 "nbformat": 4,
 "nbformat_minor": 2
}
