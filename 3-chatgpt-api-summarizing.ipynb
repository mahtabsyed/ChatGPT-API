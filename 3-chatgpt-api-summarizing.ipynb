{
 "cells": [
  {
   "attachments": {},
   "cell_type": "markdown",
   "metadata": {},
   "source": [
    "# Summarizing\n",
    "In this lesson, you will summarize text with a focus on specific topics.\n",
    "\n",
    "## Setup"
   ]
  },
  {
   "cell_type": "code",
   "execution_count": 1,
   "metadata": {},
   "outputs": [],
   "source": [
    "import openai\n",
    "import os\n",
    "\n",
    "from dotenv import load_dotenv, find_dotenv\n",
    "_ = load_dotenv(find_dotenv())\n",
    "\n",
    "openai.api_key  = os.getenv('OPENAI_API_KEY')\n",
    "# print(openai.api_key )"
   ]
  },
  {
   "cell_type": "code",
   "execution_count": 2,
   "metadata": {},
   "outputs": [],
   "source": [
    "# If using OpenAI library version 1.0.0, here is the code\n",
    "# openai==1.0.0\n",
    "client = openai.OpenAI()\n",
    "\n",
    "def get_completion(prompt, model=\"gpt-3.5-turbo\"):\n",
    "    messages = [{\"role\": \"user\", \"content\": prompt}]\n",
    "    response = client.chat.completions.create(\n",
    "        model=model,\n",
    "        messages=messages,\n",
    "        temperature=0\n",
    "    )\n",
    "    return response.choices[0].message.content"
   ]
  },
  {
   "attachments": {},
   "cell_type": "markdown",
   "metadata": {},
   "source": [
    "## Text to summarize"
   ]
  },
  {
   "cell_type": "code",
   "execution_count": 3,
   "metadata": {},
   "outputs": [],
   "source": [
    "prod_review = \"\"\"\n",
    "Got this panda plush toy for my daughter's birthday, \\\n",
    "who loves it and takes it everywhere. It's soft and \\ \n",
    "super cute, and its face has a friendly look. It's \\ \n",
    "a bit small for what I paid though. I think there \\ \n",
    "might be other options that are bigger for the \\ \n",
    "same price. It arrived a day earlier than expected, \\ \n",
    "so I got to play with it myself before I gave it \\ \n",
    "to her.\n",
    "\"\"\""
   ]
  },
  {
   "attachments": {},
   "cell_type": "markdown",
   "metadata": {},
   "source": [
    "## Summarize with a word/sentence/character limit"
   ]
  },
  {
   "cell_type": "code",
   "execution_count": 5,
   "metadata": {},
   "outputs": [
    {
     "name": "stdout",
     "output_type": "stream",
     "text": [
      "Soft, cute panda plush toy, but smaller than expected. Arrived early.\n"
     ]
    }
   ],
   "source": [
    "prompt = f\"\"\"\n",
    "Your task is to generate a short summary of a product \\\n",
    "review from an ecommerce site. \n",
    "\n",
    "Summarize the review below, delimited by triple \n",
    "backticks, in at most 10 words. \n",
    "\n",
    "Review: ```{prod_review}```\n",
    "\"\"\"\n",
    "\n",
    "response = get_completion(prompt)\n",
    "print(response)"
   ]
  },
  {
   "attachments": {},
   "cell_type": "markdown",
   "metadata": {},
   "source": [
    "## Summarize with a focus on shipping and delivery"
   ]
  },
  {
   "cell_type": "code",
   "execution_count": null,
   "metadata": {},
   "outputs": [],
   "source": [
    "prompt = f\"\"\"\n",
    "Your task is to generate a short summary of a product \\\n",
    "review from an ecommerce site to give feedback to the \\\n",
    "Shipping deparmtment. \n",
    "\n",
    "Summarize the review below, delimited by triple \n",
    "backticks, in at most 30 words, and focusing on any aspects \\\n",
    "that mention shipping and delivery of the product. \n",
    "\n",
    "Review: ```{prod_review}```\n",
    "\"\"\"\n",
    "\n",
    "response = get_completion(prompt)\n",
    "print(response)"
   ]
  },
  {
   "attachments": {},
   "cell_type": "markdown",
   "metadata": {},
   "source": [
    "## Summarize with a focus on price and value"
   ]
  },
  {
   "cell_type": "code",
   "execution_count": null,
   "metadata": {},
   "outputs": [],
   "source": [
    "prompt = f\"\"\"\n",
    "Your task is to generate a short summary of a product \\\n",
    "review from an ecommerce site to give feedback to the \\\n",
    "pricing deparmtment, responsible for determining the \\\n",
    "price of the product.  \n",
    "\n",
    "Summarize the review below, delimited by triple \n",
    "backticks, in at most 30 words, and focusing on any aspects \\\n",
    "that are relevant to the price and perceived value. \n",
    "\n",
    "Review: ```{prod_review}```\n",
    "\"\"\"\n",
    "\n",
    "response = get_completion(prompt)\n",
    "print(response)"
   ]
  },
  {
   "attachments": {},
   "cell_type": "markdown",
   "metadata": {},
   "source": [
    "#### Comment\n",
    "- Summaries include topics that are not related to the topic of focus."
   ]
  },
  {
   "attachments": {},
   "cell_type": "markdown",
   "metadata": {},
   "source": [
    "## Try \"extract\" instead of \"summarize\""
   ]
  },
  {
   "cell_type": "code",
   "execution_count": null,
   "metadata": {},
   "outputs": [],
   "source": [
    "prompt = f\"\"\"\n",
    "Your task is to extract relevant information from \\ \n",
    "a product review from an ecommerce site to give \\\n",
    "feedback to the Shipping department. \n",
    "\n",
    "From the review below, delimited by triple quotes \\\n",
    "extract the information relevant to shipping and \\ \n",
    "delivery. Limit to 30 words. \n",
    "\n",
    "Review: ```{prod_review}```\n",
    "\"\"\"\n",
    "\n",
    "response = get_completion(prompt)\n",
    "print(response)"
   ]
  },
  {
   "attachments": {},
   "cell_type": "markdown",
   "metadata": {},
   "source": [
    "## Summarize multiple product reviews"
   ]
  },
  {
   "cell_type": "code",
   "execution_count": 6,
   "metadata": {},
   "outputs": [],
   "source": [
    "# review for an headset\n",
    "review_1 =  \"\"\"\n",
    "Although Xyz is not good at design an app or a smartphone, but I must confess that this may the best head phone \n",
    "you can buy, it is very comfortable, you can wear it while you are sleeping.\n",
    "When I open spotify and start to listen music, I was shocked, \n",
    "It plays just as well as my wired headphones. And it can eliminate almost all the noise from outside, that can make me enjoy the music completely.\n",
    "But the material collects the fingerprint just as efficient as my black Macbook, i\n",
    "f you in favor of this guy, make sure you have time to clean it once a day.\n",
    "\"\"\"\n",
    "\n",
    "\n",
    "# review for an electric toothbrush\n",
    "review_2 = \"\"\"\n",
    "My dental hygienist recommended an electric toothbrush, \\\n",
    "which is why I got this. The battery life seems to be \\\n",
    "pretty impressive so far. After initial charging and \\\n",
    "leaving the charger plugged in for the first week to \\\n",
    "condition the battery, I've unplugged the charger and \\\n",
    "been using it for twice daily brushing for the last \\\n",
    "3 weeks all on the same charge. But the toothbrush head \\\n",
    "is too small. I’ve seen baby toothbrushes bigger than \\\n",
    "this one. I wish the head was bigger with different \\\n",
    "length bristles to get between teeth better because \\\n",
    "this one doesn’t.  Overall if you can get this one \\\n",
    "around the $50 mark, it's a good deal. The manufactuer's \\\n",
    "replacements heads are pretty expensive, but you can \\\n",
    "get generic ones that're more reasonably priced. This \\\n",
    "toothbrush makes me feel like I've been to the dentist \\\n",
    "every day. My teeth feel sparkly clean! \n",
    "\"\"\"\n",
    "\n",
    "# review for a blender\n",
    "review_3 = \"\"\"\n",
    "So, they still had the 17 piece system on seasonal \\\n",
    "sale for around $49 in the month of November, about \\\n",
    "half off, but for some reason (call it price gouging) \\\n",
    "around the second week of December the prices all went \\\n",
    "up to about anywhere from between $70-$89 for the same \\\n",
    "system. And the 11 piece system went up around $10 or \\\n",
    "so in price also from the earlier sale price of $29. \\\n",
    "So it looks okay, but if you look at the base, the part \\\n",
    "where the blade locks into place doesn’t look as good \\\n",
    "as in previous editions from a few years ago, but I \\\n",
    "plan to be very gentle with it (example, I crush \\\n",
    "very hard items like beans, ice, rice, etc. in the \\ \n",
    "blender first then pulverize them in the serving size \\\n",
    "I want in the blender then switch to the whipping \\\n",
    "blade for a finer flour, and use the cross cutting blade \\\n",
    "first when making smoothies, then use the flat blade \\\n",
    "if I need them finer/less pulpy). Special tip when making \\\n",
    "smoothies, finely cut and freeze the fruits and \\\n",
    "vegetables (if using spinach-lightly stew soften the \\ \n",
    "spinach then freeze until ready for use-and if making \\\n",
    "sorbet, use a small to medium sized food processor) \\ \n",
    "that you plan to use that way you can avoid adding so \\\n",
    "much ice if at all-when making your smoothie. \\\n",
    "After about a year, the motor was making a funny noise. \\\n",
    "I called customer service but the warranty expired \\\n",
    "already, so I had to buy another one. FYI: The overall \\\n",
    "quality has gone done in these types of products, so \\\n",
    "they are kind of counting on brand recognition and \\\n",
    "consumer loyalty to maintain sales. Got it in about \\\n",
    "two days.\n",
    "\"\"\"\n",
    "\n",
    "# review for an headset\n",
    "review_4 = \"\"\"\n",
    "After two weeks of using this headset, I notice that the connection with the phone cuts off every now and then!! \n",
    "This is not acceptable. And I am returning this back!\n",
    "\"\"\"\n",
    "\n",
    "# review for an headset\n",
    "review_5 = \"\"\"\n",
    "Hateful product. Apparently they turn themselves off when they can't detect your head. Seems they suddenly decided after two weeks that I don't have one, so they turn themselves off every 30 seconds or so. I got so angry I tried to clamp them to my head and broke both flimsy arms on the horrid things and $500 bucks down the drain! Save yourself the pain and find a less \"clever\" pair of headphones. \n",
    "In these times where many of us use headphones for work, what idiot decided this was a good feature?\n",
    "\"\"\"\n",
    "\n",
    "reviews = [review_1, review_2, review_3, review_4, review_5]\n"
   ]
  },
  {
   "cell_type": "code",
   "execution_count": 7,
   "metadata": {},
   "outputs": [
    {
     "data": {
      "text/plain": [
       "'\\nHateful product. Apparently they turn themselves off when they can\\'t detect your head. Seems they suddenly decided after two weeks that I don\\'t have one, so they turn themselves off every 30 seconds or so. I got so angry I tried to clamp them to my head and broke both flimsy arms on the horrid things and $500 bucks down the drain! Save yourself the pain and find a less \"clever\" pair of headphones. \\nIn these times where many of us use headphones for work, what idiot decided this was a good feature?\\n'"
      ]
     },
     "execution_count": 7,
     "metadata": {},
     "output_type": "execute_result"
    }
   ],
   "source": [
    "review_5"
   ]
  },
  {
   "cell_type": "markdown",
   "metadata": {},
   "source": [
    "## Zero-shot prompting\n",
    "Zero-shot prompting is where you do not provide examples with labels, and rely on the LLM to make the classification on its own."
   ]
  },
  {
   "cell_type": "code",
   "execution_count": 8,
   "metadata": {},
   "outputs": [
    {
     "name": "stdout",
     "output_type": "stream",
     "text": [
      "0 {\n",
      "    \"summary\": \"Comfortable and high-quality headphones with noise-cancellation feature, but prone to collecting fingerprints.\",\n",
      "    \"emotion\": \"Positive\"\n",
      "} \n",
      "\n",
      "1 {\n",
      "    \"summary\": \"Impressive battery life, small toothbrush head, good deal if around $50, makes teeth feel clean.\",\n",
      "    \"emotion\": \"Positive\"\n",
      "} \n",
      "\n",
      "2 {\n",
      "    \"summary\": \"Mixed review on price changes, product quality, and customer service.\",\n",
      "    \"classification\": \"Neutral\"\n",
      "} \n",
      "\n",
      "3 {\n",
      "    \"summary\": \"Headset connection cuts off frequently after two weeks of use.\",\n",
      "    \"classification\": \"Negative\"\n",
      "} \n",
      "\n",
      "4 {\n",
      "    \"summary\": \"Headphones turn off when they can't detect head, causing frustration and anger.\",\n",
      "    \"emotion\": \"Angry\"\n",
      "} \n",
      "\n"
     ]
    }
   ],
   "source": [
    "for i in range(len(reviews)):\n",
    "    prompt = f\"\"\"\n",
    "    You have been given a list of product reviews, delimited by triple backticks, from an eCommere web site. \n",
    "    Do these tasks.\n",
    "    1. Summarize the product review in less than 20 words, and just one sentence.\n",
    "    2. Classify the product review as one of these - \"Neutral\", \"Positive\", \"Negative\", \"Upset\", \"Angry\".\n",
    "      If you cant find these emotions say \"None\"\n",
    "\n",
    "    Give the response in JSON format only.\n",
    "    Review: ```{reviews[i]}```\n",
    "    \"\"\"\n",
    "\n",
    "    response = get_completion(prompt)\n",
    "    print(i, response, \"\\n\")"
   ]
  },
  {
   "cell_type": "markdown",
   "metadata": {},
   "source": [
    "## One-shot prompting\n",
    "Below is an example of one-shot prompting, where you provide one example to the LLM within the prompt to give some guidance on what type of response you want."
   ]
  },
  {
   "cell_type": "code",
   "execution_count": 9,
   "metadata": {},
   "outputs": [
    {
     "name": "stdout",
     "output_type": "stream",
     "text": [
      "0 {\n",
      "    \"Summary\": \"Comfortable headphones with great sound quality but collects fingerprints easily.\",\n",
      "    \"Sentiment\": \"Positive\"\n",
      "} \n",
      "\n",
      "1 {\n",
      "    \"Summary\": \"Impressive battery life, small toothbrush head, good deal overall\",\n",
      "    \"Sentiment\": \"Positive\"\n",
      "} \n",
      "\n",
      "2 {\n",
      "    \"Summary\": \"Product quality has decreased over time, motor had issues after a year, prices increased during holiday season.\",\n",
      "    \"Sentiment\": \"Negative\"\n",
      "} \n",
      "\n",
      "3 {\n",
      "    \"Summary\": \"Headset connection cuts off, returning the product\",\n",
      "    \"Sentiment\": \"Negative\"\n",
      "} \n",
      "\n",
      "4 {\n",
      "    \"Summary\": \"Headphones turn off randomly, flimsy arms broke, not worth $500.\",\n",
      "    \"Sentiment\": \"Angry\"\n",
      "} \n",
      "\n"
     ]
    }
   ],
   "source": [
    "for i in range(len(reviews)):\n",
    "    prompt = f\"\"\"\n",
    "    You have been given a list of product reviews, delimited by triple backticks, from an eCommere web site. \n",
    "    Do these tasks.\n",
    "    1. Summarize the product review in less than 20 words, and just one sentence.\n",
    "    2. Classify the product review as one of these - \"Neutral\", \"Positive\", \"Negative\", \"Upset\", \"Angry\".\n",
    "      If you cant find these emotions say \"None\"\n",
    "\n",
    "    Give the response in JSON fromat only and use this example which you can use forthe format:\n",
    "    \"Summary\": \"Good product\", \"Sentiment\": \"Positive\"    \n",
    "\n",
    "    Review: ```{reviews[i]}```\n",
    "    \"\"\"\n",
    "\n",
    "    response = get_completion(prompt)\n",
    "    print(i, response, \"\\n\")"
   ]
  },
  {
   "attachments": {},
   "cell_type": "markdown",
   "metadata": {},
   "source": [
    "## Try experimenting on your own!"
   ]
  },
  {
   "cell_type": "code",
   "execution_count": 10,
   "metadata": {},
   "outputs": [
    {
     "name": "stdout",
     "output_type": "stream",
     "text": [
      "0 {\n",
      "    \"Sentiment\": \"Positive\"\n",
      "} \n",
      "\n",
      "1 {\n",
      "    \"Sentiment\": \"Positive\"\n",
      "} \n",
      "\n",
      "2 {\n",
      "    \"Sentiment\": \"Negative\"\n",
      "} \n",
      "\n",
      "3 {\n",
      "    \"Sentiment\": \"Negative\"\n",
      "} \n",
      "\n",
      "4 {\n",
      "    \"Sentiment\": \"Angry\"\n",
      "} \n",
      "\n"
     ]
    }
   ],
   "source": [
    "for i in range(len(reviews)):\n",
    "    prompt = f\"\"\"\n",
    "    You have been given a list of product reviews, delimited by triple backticks, from an eCommere web site. \n",
    "    Do these tasks.\n",
    "    1. Classify the product review as one of these - \"Neutral\", \"Positive\", \"Negative\", \"Upset\", \"Angry\".\n",
    "      If you cant find these emotions say \"None\"\n",
    "\n",
    "    Give the response in JSON fromat only and use this example which you can use forthe format:\n",
    "    \"Sentiment\": \"Positive\"    \n",
    "\n",
    "    Review: ```{reviews[i]}```\n",
    "    \"\"\"\n",
    "\n",
    "    response = get_completion(prompt)\n",
    "    print(i, response, \"\\n\")"
   ]
  },
  {
   "cell_type": "code",
   "execution_count": null,
   "metadata": {},
   "outputs": [],
   "source": []
  }
 ],
 "metadata": {
  "kernelspec": {
   "display_name": ".venv",
   "language": "python",
   "name": "python3"
  },
  "language_info": {
   "codemirror_mode": {
    "name": "ipython",
    "version": 3
   },
   "file_extension": ".py",
   "mimetype": "text/x-python",
   "name": "python",
   "nbconvert_exporter": "python",
   "pygments_lexer": "ipython3",
   "version": "3.10.4"
  },
  "orig_nbformat": 4
 },
 "nbformat": 4,
 "nbformat_minor": 2
}
